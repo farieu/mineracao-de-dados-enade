{
  "nbformat": 4,
  "nbformat_minor": 0,
  "metadata": {
    "colab": {
      "provenance": []
    },
    "kernelspec": {
      "name": "python3",
      "display_name": "Python 3"
    },
    "language_info": {
      "name": "python"
    }
  },
  "cells": [
    {
      "cell_type": "code",
      "execution_count": 84,
      "metadata": {
        "id": "eFTTYzw-hzCA"
      },
      "outputs": [],
      "source": [
        "import seaborn as sns\n",
        "import pandas as pd\n",
        "import numpy as np\n",
        "import matplotlib.pyplot as plt\n",
        "from sklearn.preprocessing import StandardScaler\n",
        "from sklearn.cluster import KMeans\n",
        "import os"
      ]
    },
    {
      "cell_type": "markdown",
      "source": [
        "## Processamento das Categorias"
      ],
      "metadata": {
        "id": "iZmXjGdWOSpU"
      }
    },
    {
      "cell_type": "markdown",
      "source": [
        "Com o filtro dos alunos e os perfis montados, este notebook tem como objetivo remover alunos que não tiveram presença válida no ENADE, e transformar as variáveis categóricas."
      ],
      "metadata": {
        "id": "rlee2gfKOY35"
      }
    },
    {
      "cell_type": "code",
      "source": [
        "from google.colab import drive\n",
        "drive.mount('/content/drive')"
      ],
      "metadata": {
        "colab": {
          "base_uri": "https://localhost:8080/"
        },
        "id": "B5n68UrhOyZ4",
        "outputId": "227365a9-e3b8-48f7-a654-016133a87df2"
      },
      "execution_count": 3,
      "outputs": [
        {
          "output_type": "stream",
          "name": "stdout",
          "text": [
            "Drive already mounted at /content/drive; to attempt to forcibly remount, call drive.mount(\"/content/drive\", force_remount=True).\n"
          ]
        }
      ]
    },
    {
      "cell_type": "code",
      "source": [
        "computacaoenade2021 = pd.read_csv('/content/drive/MyDrive/EDM 2025.1/DATASETS/ENADE/2021/computacao_enade_2021.csv', sep=';')\n",
        "computacaoenade2017 = pd.read_csv('/content/drive/MyDrive/EDM 2025.1/DATASETS/ENADE/2017/computacao_enade_2017.csv', sep=';')\n",
        "computacaoenade2014 = pd.read_csv('/content/drive/MyDrive/EDM 2025.1/DATASETS/ENADE/2014/computacao_enade_2014.csv', sep=';')"
      ],
      "metadata": {
        "id": "kfqRxY9yPNOM"
      },
      "execution_count": 4,
      "outputs": []
    },
    {
      "cell_type": "markdown",
      "source": [
        "Durante o processamento, não verifiquei desse total de alunos, qual era a quantidade que possuiam resultados válidos, isto é: O atributo **TP_PRES** = 555 (Presente com resultado válido)"
      ],
      "metadata": {
        "id": "ff0xlf_YQGa5"
      }
    },
    {
      "cell_type": "code",
      "source": [
        "computacaoenade2021.shape"
      ],
      "metadata": {
        "colab": {
          "base_uri": "https://localhost:8080/"
        },
        "id": "uOHDe1SGPaKC",
        "outputId": "a3ce2daa-3425-4924-a213-765cc3d5bffe"
      },
      "execution_count": 5,
      "outputs": [
        {
          "output_type": "execute_result",
          "data": {
            "text/plain": [
              "(7564, 28)"
            ]
          },
          "metadata": {},
          "execution_count": 5
        }
      ]
    },
    {
      "cell_type": "code",
      "source": [
        "computacaoenade2021['TP_PRES'].value_counts()"
      ],
      "metadata": {
        "colab": {
          "base_uri": "https://localhost:8080/",
          "height": 241
        },
        "id": "z1SBrlgfP7t3",
        "outputId": "7e118d5b-a351-4358-bc54-64956bf91a40"
      },
      "execution_count": 6,
      "outputs": [
        {
          "output_type": "execute_result",
          "data": {
            "text/plain": [
              "TP_PRES\n",
              "555    5651\n",
              "222    1882\n",
              "334      23\n",
              "444       8\n",
              "Name: count, dtype: int64"
            ],
            "text/html": [
              "<div>\n",
              "<style scoped>\n",
              "    .dataframe tbody tr th:only-of-type {\n",
              "        vertical-align: middle;\n",
              "    }\n",
              "\n",
              "    .dataframe tbody tr th {\n",
              "        vertical-align: top;\n",
              "    }\n",
              "\n",
              "    .dataframe thead th {\n",
              "        text-align: right;\n",
              "    }\n",
              "</style>\n",
              "<table border=\"1\" class=\"dataframe\">\n",
              "  <thead>\n",
              "    <tr style=\"text-align: right;\">\n",
              "      <th></th>\n",
              "      <th>count</th>\n",
              "    </tr>\n",
              "    <tr>\n",
              "      <th>TP_PRES</th>\n",
              "      <th></th>\n",
              "    </tr>\n",
              "  </thead>\n",
              "  <tbody>\n",
              "    <tr>\n",
              "      <th>555</th>\n",
              "      <td>5651</td>\n",
              "    </tr>\n",
              "    <tr>\n",
              "      <th>222</th>\n",
              "      <td>1882</td>\n",
              "    </tr>\n",
              "    <tr>\n",
              "      <th>334</th>\n",
              "      <td>23</td>\n",
              "    </tr>\n",
              "    <tr>\n",
              "      <th>444</th>\n",
              "      <td>8</td>\n",
              "    </tr>\n",
              "  </tbody>\n",
              "</table>\n",
              "</div><br><label><b>dtype:</b> int64</label>"
            ]
          },
          "metadata": {},
          "execution_count": 6
        }
      ]
    },
    {
      "cell_type": "code",
      "source": [
        "computacaoenade2017.shape"
      ],
      "metadata": {
        "colab": {
          "base_uri": "https://localhost:8080/"
        },
        "id": "1ef8x1KfPbS5",
        "outputId": "bb365dbb-2d5a-4e10-d9f6-b95034a946be"
      },
      "execution_count": 7,
      "outputs": [
        {
          "output_type": "execute_result",
          "data": {
            "text/plain": [
              "(7129, 28)"
            ]
          },
          "metadata": {},
          "execution_count": 7
        }
      ]
    },
    {
      "cell_type": "code",
      "source": [
        "computacaoenade2017['TP_PRES'].value_counts()"
      ],
      "metadata": {
        "colab": {
          "base_uri": "https://localhost:8080/",
          "height": 210
        },
        "id": "OjsHxyh3QAP5",
        "outputId": "420dc097-e336-4765-b128-91977b1527df"
      },
      "execution_count": 8,
      "outputs": [
        {
          "output_type": "execute_result",
          "data": {
            "text/plain": [
              "TP_PRES\n",
              "555    5675\n",
              "222    1446\n",
              "444       8\n",
              "Name: count, dtype: int64"
            ],
            "text/html": [
              "<div>\n",
              "<style scoped>\n",
              "    .dataframe tbody tr th:only-of-type {\n",
              "        vertical-align: middle;\n",
              "    }\n",
              "\n",
              "    .dataframe tbody tr th {\n",
              "        vertical-align: top;\n",
              "    }\n",
              "\n",
              "    .dataframe thead th {\n",
              "        text-align: right;\n",
              "    }\n",
              "</style>\n",
              "<table border=\"1\" class=\"dataframe\">\n",
              "  <thead>\n",
              "    <tr style=\"text-align: right;\">\n",
              "      <th></th>\n",
              "      <th>count</th>\n",
              "    </tr>\n",
              "    <tr>\n",
              "      <th>TP_PRES</th>\n",
              "      <th></th>\n",
              "    </tr>\n",
              "  </thead>\n",
              "  <tbody>\n",
              "    <tr>\n",
              "      <th>555</th>\n",
              "      <td>5675</td>\n",
              "    </tr>\n",
              "    <tr>\n",
              "      <th>222</th>\n",
              "      <td>1446</td>\n",
              "    </tr>\n",
              "    <tr>\n",
              "      <th>444</th>\n",
              "      <td>8</td>\n",
              "    </tr>\n",
              "  </tbody>\n",
              "</table>\n",
              "</div><br><label><b>dtype:</b> int64</label>"
            ]
          },
          "metadata": {},
          "execution_count": 8
        }
      ]
    },
    {
      "cell_type": "code",
      "source": [
        "computacaoenade2014.shape"
      ],
      "metadata": {
        "colab": {
          "base_uri": "https://localhost:8080/"
        },
        "id": "FczIC4IhPfst",
        "outputId": "d1f98c0b-677b-407d-e9da-03fbd0a1add1"
      },
      "execution_count": 9,
      "outputs": [
        {
          "output_type": "execute_result",
          "data": {
            "text/plain": [
              "(8285, 30)"
            ]
          },
          "metadata": {},
          "execution_count": 9
        }
      ]
    },
    {
      "cell_type": "code",
      "source": [
        "computacaoenade2014['TP_PRES'].value_counts()"
      ],
      "metadata": {
        "colab": {
          "base_uri": "https://localhost:8080/",
          "height": 178
        },
        "id": "8xL0H7FNPh8n",
        "outputId": "4e7f4d07-565a-4aad-dc6c-0c076e8c1ecc"
      },
      "execution_count": 10,
      "outputs": [
        {
          "output_type": "execute_result",
          "data": {
            "text/plain": [
              "TP_PRES\n",
              "555    6669\n",
              "222    1616\n",
              "Name: count, dtype: int64"
            ],
            "text/html": [
              "<div>\n",
              "<style scoped>\n",
              "    .dataframe tbody tr th:only-of-type {\n",
              "        vertical-align: middle;\n",
              "    }\n",
              "\n",
              "    .dataframe tbody tr th {\n",
              "        vertical-align: top;\n",
              "    }\n",
              "\n",
              "    .dataframe thead th {\n",
              "        text-align: right;\n",
              "    }\n",
              "</style>\n",
              "<table border=\"1\" class=\"dataframe\">\n",
              "  <thead>\n",
              "    <tr style=\"text-align: right;\">\n",
              "      <th></th>\n",
              "      <th>count</th>\n",
              "    </tr>\n",
              "    <tr>\n",
              "      <th>TP_PRES</th>\n",
              "      <th></th>\n",
              "    </tr>\n",
              "  </thead>\n",
              "  <tbody>\n",
              "    <tr>\n",
              "      <th>555</th>\n",
              "      <td>6669</td>\n",
              "    </tr>\n",
              "    <tr>\n",
              "      <th>222</th>\n",
              "      <td>1616</td>\n",
              "    </tr>\n",
              "  </tbody>\n",
              "</table>\n",
              "</div><br><label><b>dtype:</b> int64</label>"
            ]
          },
          "metadata": {},
          "execution_count": 10
        }
      ]
    },
    {
      "cell_type": "code",
      "source": [
        "computacaoenade2021 = computacaoenade2021[computacaoenade2021['TP_PRES'] == 555]\n",
        "computacaoenade2017 = computacaoenade2017[computacaoenade2017['TP_PRES'] == 555]\n",
        "computacaoenade2014 = computacaoenade2014[computacaoenade2014['TP_PRES'] == 555]"
      ],
      "metadata": {
        "id": "IcK2Vp_WR1BG"
      },
      "execution_count": 31,
      "outputs": []
    },
    {
      "cell_type": "code",
      "source": [
        "print(computacaoenade2021.shape)\n",
        "print(computacaoenade2017.shape)\n",
        "print(computacaoenade2014.shape) #2014 tem dois a mais que são referentes aos turnos."
      ],
      "metadata": {
        "colab": {
          "base_uri": "https://localhost:8080/"
        },
        "id": "-ZjaRmqPURH9",
        "outputId": "13f158cf-0d88-44b8-c8b2-d9b758b7e376"
      },
      "execution_count": 12,
      "outputs": [
        {
          "output_type": "stream",
          "name": "stdout",
          "text": [
            "(5651, 28)\n",
            "(5675, 28)\n",
            "(6669, 30)\n"
          ]
        }
      ]
    },
    {
      "cell_type": "markdown",
      "source": [
        "## Questão de Cursos Integrais no ENADE 2014"
      ],
      "metadata": {
        "id": "m-pNGdubbla7"
      }
    },
    {
      "cell_type": "markdown",
      "source": [
        "O de 2014 possui três colunas para descrever o turno da graduação. Nos ciclos seguintes, todos os turnos foram consolidados em uma única coluna. Então para isso, será necessário fazer uma consolidação."
      ],
      "metadata": {
        "id": "HQ0UfxEyY606"
      }
    },
    {
      "cell_type": "code",
      "source": [
        "computacaoenade2014.columns"
      ],
      "metadata": {
        "colab": {
          "base_uri": "https://localhost:8080/"
        },
        "id": "vus3NO7YWQMW",
        "outputId": "bfe3587c-6715-481f-8844-d9886c49a1e1"
      },
      "execution_count": 13,
      "outputs": [
        {
          "output_type": "execute_result",
          "data": {
            "text/plain": [
              "Index(['NU_ANO', 'CO_CURSO', 'CO_GRUPO', 'CO_UF_CURSO', 'CO_REGIAO_CURSO',\n",
              "       'CO_CATEGAD', 'CO_ORGACAD', 'IN_MATUT', 'IN_VESPER', 'IN_NOTURNO',\n",
              "       'TP_PRES', 'NT_GER', 'TP_SEXO', 'NU_IDADE', 'ANO_FIM_EM', 'ANO_IN_GRAD',\n",
              "       'QE_I01', 'QE_I02', 'QE_I03', 'QE_I04', 'QE_I05', 'QE_I08', 'QE_I09',\n",
              "       'QE_I10', 'QE_I11', 'QE_I12', 'QE_I13', 'QE_I15', 'QE_I17', 'QE_I21'],\n",
              "      dtype='object')"
            ]
          },
          "metadata": {},
          "execution_count": 13
        }
      ]
    },
    {
      "cell_type": "code",
      "source": [
        "computacaoenade2014['IN_MATUT'].value_counts()\n",
        "# 0: NÃO\n",
        "# 1: SIM"
      ],
      "metadata": {
        "colab": {
          "base_uri": "https://localhost:8080/",
          "height": 178
        },
        "id": "1t_bS0XuWMLl",
        "outputId": "334febca-a0db-4f65-ad9a-77f0e2a52047"
      },
      "execution_count": 14,
      "outputs": [
        {
          "output_type": "execute_result",
          "data": {
            "text/plain": [
              "IN_MATUT\n",
              "0.0    4213\n",
              "1.0    2455\n",
              "Name: count, dtype: int64"
            ],
            "text/html": [
              "<div>\n",
              "<style scoped>\n",
              "    .dataframe tbody tr th:only-of-type {\n",
              "        vertical-align: middle;\n",
              "    }\n",
              "\n",
              "    .dataframe tbody tr th {\n",
              "        vertical-align: top;\n",
              "    }\n",
              "\n",
              "    .dataframe thead th {\n",
              "        text-align: right;\n",
              "    }\n",
              "</style>\n",
              "<table border=\"1\" class=\"dataframe\">\n",
              "  <thead>\n",
              "    <tr style=\"text-align: right;\">\n",
              "      <th></th>\n",
              "      <th>count</th>\n",
              "    </tr>\n",
              "    <tr>\n",
              "      <th>IN_MATUT</th>\n",
              "      <th></th>\n",
              "    </tr>\n",
              "  </thead>\n",
              "  <tbody>\n",
              "    <tr>\n",
              "      <th>0.0</th>\n",
              "      <td>4213</td>\n",
              "    </tr>\n",
              "    <tr>\n",
              "      <th>1.0</th>\n",
              "      <td>2455</td>\n",
              "    </tr>\n",
              "  </tbody>\n",
              "</table>\n",
              "</div><br><label><b>dtype:</b> int64</label>"
            ]
          },
          "metadata": {},
          "execution_count": 14
        }
      ]
    },
    {
      "cell_type": "code",
      "source": [
        "computacaoenade2014['IN_VESPER'].value_counts()\n",
        "# 0: NÃO\n",
        "# 1: SIM"
      ],
      "metadata": {
        "colab": {
          "base_uri": "https://localhost:8080/",
          "height": 178
        },
        "id": "5XBFU7oXWVb5",
        "outputId": "a568f1f3-c1db-4458-c728-cf7a90b03046"
      },
      "execution_count": 15,
      "outputs": [
        {
          "output_type": "execute_result",
          "data": {
            "text/plain": [
              "IN_VESPER\n",
              "0.0    4851\n",
              "1.0    1817\n",
              "Name: count, dtype: int64"
            ],
            "text/html": [
              "<div>\n",
              "<style scoped>\n",
              "    .dataframe tbody tr th:only-of-type {\n",
              "        vertical-align: middle;\n",
              "    }\n",
              "\n",
              "    .dataframe tbody tr th {\n",
              "        vertical-align: top;\n",
              "    }\n",
              "\n",
              "    .dataframe thead th {\n",
              "        text-align: right;\n",
              "    }\n",
              "</style>\n",
              "<table border=\"1\" class=\"dataframe\">\n",
              "  <thead>\n",
              "    <tr style=\"text-align: right;\">\n",
              "      <th></th>\n",
              "      <th>count</th>\n",
              "    </tr>\n",
              "    <tr>\n",
              "      <th>IN_VESPER</th>\n",
              "      <th></th>\n",
              "    </tr>\n",
              "  </thead>\n",
              "  <tbody>\n",
              "    <tr>\n",
              "      <th>0.0</th>\n",
              "      <td>4851</td>\n",
              "    </tr>\n",
              "    <tr>\n",
              "      <th>1.0</th>\n",
              "      <td>1817</td>\n",
              "    </tr>\n",
              "  </tbody>\n",
              "</table>\n",
              "</div><br><label><b>dtype:</b> int64</label>"
            ]
          },
          "metadata": {},
          "execution_count": 15
        }
      ]
    },
    {
      "cell_type": "code",
      "source": [
        "computacaoenade2014['IN_NOTURNO'].value_counts()\n",
        "# 0: NÃO\n",
        "# 1: SIM"
      ],
      "metadata": {
        "colab": {
          "base_uri": "https://localhost:8080/",
          "height": 178
        },
        "id": "5JPUaRQfWXGu",
        "outputId": "6f082827-fb17-4184-9d36-61d5c934ab02"
      },
      "execution_count": 16,
      "outputs": [
        {
          "output_type": "execute_result",
          "data": {
            "text/plain": [
              "IN_NOTURNO\n",
              "1.0    4080\n",
              "0.0    2588\n",
              "Name: count, dtype: int64"
            ],
            "text/html": [
              "<div>\n",
              "<style scoped>\n",
              "    .dataframe tbody tr th:only-of-type {\n",
              "        vertical-align: middle;\n",
              "    }\n",
              "\n",
              "    .dataframe tbody tr th {\n",
              "        vertical-align: top;\n",
              "    }\n",
              "\n",
              "    .dataframe thead th {\n",
              "        text-align: right;\n",
              "    }\n",
              "</style>\n",
              "<table border=\"1\" class=\"dataframe\">\n",
              "  <thead>\n",
              "    <tr style=\"text-align: right;\">\n",
              "      <th></th>\n",
              "      <th>count</th>\n",
              "    </tr>\n",
              "    <tr>\n",
              "      <th>IN_NOTURNO</th>\n",
              "      <th></th>\n",
              "    </tr>\n",
              "  </thead>\n",
              "  <tbody>\n",
              "    <tr>\n",
              "      <th>1.0</th>\n",
              "      <td>4080</td>\n",
              "    </tr>\n",
              "    <tr>\n",
              "      <th>0.0</th>\n",
              "      <td>2588</td>\n",
              "    </tr>\n",
              "  </tbody>\n",
              "</table>\n",
              "</div><br><label><b>dtype:</b> int64</label>"
            ]
          },
          "metadata": {},
          "execution_count": 16
        }
      ]
    },
    {
      "cell_type": "code",
      "source": [
        "turnos = computacaoenade2014[['IN_MATUT', 'IN_VESPER', 'IN_NOTURNO']]\n",
        "multiplos_turnos = turnos.sum(axis=1)\n",
        "\n",
        "quantidade_multiplos = (multiplos_turnos >= 2).sum()\n",
        "print(f\"Linhas com 2 ou mais turnos marcados como 'SIM': {quantidade_multiplos}\")\n",
        "\n",
        "turno_unico = computacaoenade2014[multiplos_turnos == 1]\n",
        "print(f\"Linhas com apenas um turno marcado como 'SIM': {len(turno_unico)}\")"
      ],
      "metadata": {
        "colab": {
          "base_uri": "https://localhost:8080/"
        },
        "id": "ThU-qB9laBWb",
        "outputId": "5d7f6373-1a2f-4907-8821-0947f360c83b"
      },
      "execution_count": 17,
      "outputs": [
        {
          "output_type": "stream",
          "name": "stdout",
          "text": [
            "Linhas com 2 ou mais turnos marcados como 'SIM': 1382\n",
            "Linhas com apenas um turno marcado como 'SIM': 5286\n"
          ]
        }
      ]
    },
    {
      "cell_type": "code",
      "source": [
        "cursos_multiplos_turnos = computacaoenade2014[multiplos_turnos >= 2]\n",
        "cursos_multiplos_turnos[['IN_MATUT', 'IN_VESPER', 'IN_NOTURNO']].head()"
      ],
      "metadata": {
        "colab": {
          "base_uri": "https://localhost:8080/",
          "height": 206
        },
        "id": "5b0PnLzuaZkM",
        "outputId": "47ef7943-47a7-4b7f-c6b9-f054818ef2bb"
      },
      "execution_count": 18,
      "outputs": [
        {
          "output_type": "execute_result",
          "data": {
            "text/plain": [
              "    IN_MATUT  IN_VESPER  IN_NOTURNO\n",
              "56       1.0        1.0         0.0\n",
              "57       1.0        1.0         0.0\n",
              "58       1.0        1.0         0.0\n",
              "59       1.0        1.0         0.0\n",
              "60       1.0        1.0         0.0"
            ],
            "text/html": [
              "\n",
              "  <div id=\"df-08fc2f89-47ce-49da-8cf8-155dcd385d30\" class=\"colab-df-container\">\n",
              "    <div>\n",
              "<style scoped>\n",
              "    .dataframe tbody tr th:only-of-type {\n",
              "        vertical-align: middle;\n",
              "    }\n",
              "\n",
              "    .dataframe tbody tr th {\n",
              "        vertical-align: top;\n",
              "    }\n",
              "\n",
              "    .dataframe thead th {\n",
              "        text-align: right;\n",
              "    }\n",
              "</style>\n",
              "<table border=\"1\" class=\"dataframe\">\n",
              "  <thead>\n",
              "    <tr style=\"text-align: right;\">\n",
              "      <th></th>\n",
              "      <th>IN_MATUT</th>\n",
              "      <th>IN_VESPER</th>\n",
              "      <th>IN_NOTURNO</th>\n",
              "    </tr>\n",
              "  </thead>\n",
              "  <tbody>\n",
              "    <tr>\n",
              "      <th>56</th>\n",
              "      <td>1.0</td>\n",
              "      <td>1.0</td>\n",
              "      <td>0.0</td>\n",
              "    </tr>\n",
              "    <tr>\n",
              "      <th>57</th>\n",
              "      <td>1.0</td>\n",
              "      <td>1.0</td>\n",
              "      <td>0.0</td>\n",
              "    </tr>\n",
              "    <tr>\n",
              "      <th>58</th>\n",
              "      <td>1.0</td>\n",
              "      <td>1.0</td>\n",
              "      <td>0.0</td>\n",
              "    </tr>\n",
              "    <tr>\n",
              "      <th>59</th>\n",
              "      <td>1.0</td>\n",
              "      <td>1.0</td>\n",
              "      <td>0.0</td>\n",
              "    </tr>\n",
              "    <tr>\n",
              "      <th>60</th>\n",
              "      <td>1.0</td>\n",
              "      <td>1.0</td>\n",
              "      <td>0.0</td>\n",
              "    </tr>\n",
              "  </tbody>\n",
              "</table>\n",
              "</div>\n",
              "    <div class=\"colab-df-buttons\">\n",
              "\n",
              "  <div class=\"colab-df-container\">\n",
              "    <button class=\"colab-df-convert\" onclick=\"convertToInteractive('df-08fc2f89-47ce-49da-8cf8-155dcd385d30')\"\n",
              "            title=\"Convert this dataframe to an interactive table.\"\n",
              "            style=\"display:none;\">\n",
              "\n",
              "  <svg xmlns=\"http://www.w3.org/2000/svg\" height=\"24px\" viewBox=\"0 -960 960 960\">\n",
              "    <path d=\"M120-120v-720h720v720H120Zm60-500h600v-160H180v160Zm220 220h160v-160H400v160Zm0 220h160v-160H400v160ZM180-400h160v-160H180v160Zm440 0h160v-160H620v160ZM180-180h160v-160H180v160Zm440 0h160v-160H620v160Z\"/>\n",
              "  </svg>\n",
              "    </button>\n",
              "\n",
              "  <style>\n",
              "    .colab-df-container {\n",
              "      display:flex;\n",
              "      gap: 12px;\n",
              "    }\n",
              "\n",
              "    .colab-df-convert {\n",
              "      background-color: #E8F0FE;\n",
              "      border: none;\n",
              "      border-radius: 50%;\n",
              "      cursor: pointer;\n",
              "      display: none;\n",
              "      fill: #1967D2;\n",
              "      height: 32px;\n",
              "      padding: 0 0 0 0;\n",
              "      width: 32px;\n",
              "    }\n",
              "\n",
              "    .colab-df-convert:hover {\n",
              "      background-color: #E2EBFA;\n",
              "      box-shadow: 0px 1px 2px rgba(60, 64, 67, 0.3), 0px 1px 3px 1px rgba(60, 64, 67, 0.15);\n",
              "      fill: #174EA6;\n",
              "    }\n",
              "\n",
              "    .colab-df-buttons div {\n",
              "      margin-bottom: 4px;\n",
              "    }\n",
              "\n",
              "    [theme=dark] .colab-df-convert {\n",
              "      background-color: #3B4455;\n",
              "      fill: #D2E3FC;\n",
              "    }\n",
              "\n",
              "    [theme=dark] .colab-df-convert:hover {\n",
              "      background-color: #434B5C;\n",
              "      box-shadow: 0px 1px 3px 1px rgba(0, 0, 0, 0.15);\n",
              "      filter: drop-shadow(0px 1px 2px rgba(0, 0, 0, 0.3));\n",
              "      fill: #FFFFFF;\n",
              "    }\n",
              "  </style>\n",
              "\n",
              "    <script>\n",
              "      const buttonEl =\n",
              "        document.querySelector('#df-08fc2f89-47ce-49da-8cf8-155dcd385d30 button.colab-df-convert');\n",
              "      buttonEl.style.display =\n",
              "        google.colab.kernel.accessAllowed ? 'block' : 'none';\n",
              "\n",
              "      async function convertToInteractive(key) {\n",
              "        const element = document.querySelector('#df-08fc2f89-47ce-49da-8cf8-155dcd385d30');\n",
              "        const dataTable =\n",
              "          await google.colab.kernel.invokeFunction('convertToInteractive',\n",
              "                                                    [key], {});\n",
              "        if (!dataTable) return;\n",
              "\n",
              "        const docLinkHtml = 'Like what you see? Visit the ' +\n",
              "          '<a target=\"_blank\" href=https://colab.research.google.com/notebooks/data_table.ipynb>data table notebook</a>'\n",
              "          + ' to learn more about interactive tables.';\n",
              "        element.innerHTML = '';\n",
              "        dataTable['output_type'] = 'display_data';\n",
              "        await google.colab.output.renderOutput(dataTable, element);\n",
              "        const docLink = document.createElement('div');\n",
              "        docLink.innerHTML = docLinkHtml;\n",
              "        element.appendChild(docLink);\n",
              "      }\n",
              "    </script>\n",
              "  </div>\n",
              "\n",
              "\n",
              "    <div id=\"df-a13d770a-f69a-417c-b757-0bbd26512d5a\">\n",
              "      <button class=\"colab-df-quickchart\" onclick=\"quickchart('df-a13d770a-f69a-417c-b757-0bbd26512d5a')\"\n",
              "                title=\"Suggest charts\"\n",
              "                style=\"display:none;\">\n",
              "\n",
              "<svg xmlns=\"http://www.w3.org/2000/svg\" height=\"24px\"viewBox=\"0 0 24 24\"\n",
              "     width=\"24px\">\n",
              "    <g>\n",
              "        <path d=\"M19 3H5c-1.1 0-2 .9-2 2v14c0 1.1.9 2 2 2h14c1.1 0 2-.9 2-2V5c0-1.1-.9-2-2-2zM9 17H7v-7h2v7zm4 0h-2V7h2v10zm4 0h-2v-4h2v4z\"/>\n",
              "    </g>\n",
              "</svg>\n",
              "      </button>\n",
              "\n",
              "<style>\n",
              "  .colab-df-quickchart {\n",
              "      --bg-color: #E8F0FE;\n",
              "      --fill-color: #1967D2;\n",
              "      --hover-bg-color: #E2EBFA;\n",
              "      --hover-fill-color: #174EA6;\n",
              "      --disabled-fill-color: #AAA;\n",
              "      --disabled-bg-color: #DDD;\n",
              "  }\n",
              "\n",
              "  [theme=dark] .colab-df-quickchart {\n",
              "      --bg-color: #3B4455;\n",
              "      --fill-color: #D2E3FC;\n",
              "      --hover-bg-color: #434B5C;\n",
              "      --hover-fill-color: #FFFFFF;\n",
              "      --disabled-bg-color: #3B4455;\n",
              "      --disabled-fill-color: #666;\n",
              "  }\n",
              "\n",
              "  .colab-df-quickchart {\n",
              "    background-color: var(--bg-color);\n",
              "    border: none;\n",
              "    border-radius: 50%;\n",
              "    cursor: pointer;\n",
              "    display: none;\n",
              "    fill: var(--fill-color);\n",
              "    height: 32px;\n",
              "    padding: 0;\n",
              "    width: 32px;\n",
              "  }\n",
              "\n",
              "  .colab-df-quickchart:hover {\n",
              "    background-color: var(--hover-bg-color);\n",
              "    box-shadow: 0 1px 2px rgba(60, 64, 67, 0.3), 0 1px 3px 1px rgba(60, 64, 67, 0.15);\n",
              "    fill: var(--button-hover-fill-color);\n",
              "  }\n",
              "\n",
              "  .colab-df-quickchart-complete:disabled,\n",
              "  .colab-df-quickchart-complete:disabled:hover {\n",
              "    background-color: var(--disabled-bg-color);\n",
              "    fill: var(--disabled-fill-color);\n",
              "    box-shadow: none;\n",
              "  }\n",
              "\n",
              "  .colab-df-spinner {\n",
              "    border: 2px solid var(--fill-color);\n",
              "    border-color: transparent;\n",
              "    border-bottom-color: var(--fill-color);\n",
              "    animation:\n",
              "      spin 1s steps(1) infinite;\n",
              "  }\n",
              "\n",
              "  @keyframes spin {\n",
              "    0% {\n",
              "      border-color: transparent;\n",
              "      border-bottom-color: var(--fill-color);\n",
              "      border-left-color: var(--fill-color);\n",
              "    }\n",
              "    20% {\n",
              "      border-color: transparent;\n",
              "      border-left-color: var(--fill-color);\n",
              "      border-top-color: var(--fill-color);\n",
              "    }\n",
              "    30% {\n",
              "      border-color: transparent;\n",
              "      border-left-color: var(--fill-color);\n",
              "      border-top-color: var(--fill-color);\n",
              "      border-right-color: var(--fill-color);\n",
              "    }\n",
              "    40% {\n",
              "      border-color: transparent;\n",
              "      border-right-color: var(--fill-color);\n",
              "      border-top-color: var(--fill-color);\n",
              "    }\n",
              "    60% {\n",
              "      border-color: transparent;\n",
              "      border-right-color: var(--fill-color);\n",
              "    }\n",
              "    80% {\n",
              "      border-color: transparent;\n",
              "      border-right-color: var(--fill-color);\n",
              "      border-bottom-color: var(--fill-color);\n",
              "    }\n",
              "    90% {\n",
              "      border-color: transparent;\n",
              "      border-bottom-color: var(--fill-color);\n",
              "    }\n",
              "  }\n",
              "</style>\n",
              "\n",
              "      <script>\n",
              "        async function quickchart(key) {\n",
              "          const quickchartButtonEl =\n",
              "            document.querySelector('#' + key + ' button');\n",
              "          quickchartButtonEl.disabled = true;  // To prevent multiple clicks.\n",
              "          quickchartButtonEl.classList.add('colab-df-spinner');\n",
              "          try {\n",
              "            const charts = await google.colab.kernel.invokeFunction(\n",
              "                'suggestCharts', [key], {});\n",
              "          } catch (error) {\n",
              "            console.error('Error during call to suggestCharts:', error);\n",
              "          }\n",
              "          quickchartButtonEl.classList.remove('colab-df-spinner');\n",
              "          quickchartButtonEl.classList.add('colab-df-quickchart-complete');\n",
              "        }\n",
              "        (() => {\n",
              "          let quickchartButtonEl =\n",
              "            document.querySelector('#df-a13d770a-f69a-417c-b757-0bbd26512d5a button');\n",
              "          quickchartButtonEl.style.display =\n",
              "            google.colab.kernel.accessAllowed ? 'block' : 'none';\n",
              "        })();\n",
              "      </script>\n",
              "    </div>\n",
              "\n",
              "    </div>\n",
              "  </div>\n"
            ],
            "application/vnd.google.colaboratory.intrinsic+json": {
              "type": "dataframe",
              "summary": "{\n  \"name\": \"cursos_multiplos_turnos[['IN_MATUT', 'IN_VESPER', 'IN_NOTURNO']]\",\n  \"rows\": 5,\n  \"fields\": [\n    {\n      \"column\": \"IN_MATUT\",\n      \"properties\": {\n        \"dtype\": \"number\",\n        \"std\": 0.0,\n        \"min\": 1.0,\n        \"max\": 1.0,\n        \"num_unique_values\": 1,\n        \"samples\": [\n          1.0\n        ],\n        \"semantic_type\": \"\",\n        \"description\": \"\"\n      }\n    },\n    {\n      \"column\": \"IN_VESPER\",\n      \"properties\": {\n        \"dtype\": \"number\",\n        \"std\": 0.0,\n        \"min\": 1.0,\n        \"max\": 1.0,\n        \"num_unique_values\": 1,\n        \"samples\": [\n          1.0\n        ],\n        \"semantic_type\": \"\",\n        \"description\": \"\"\n      }\n    },\n    {\n      \"column\": \"IN_NOTURNO\",\n      \"properties\": {\n        \"dtype\": \"number\",\n        \"std\": 0.0,\n        \"min\": 0.0,\n        \"max\": 0.0,\n        \"num_unique_values\": 1,\n        \"samples\": [\n          0.0\n        ],\n        \"semantic_type\": \"\",\n        \"description\": \"\"\n      }\n    }\n  ]\n}"
            }
          },
          "metadata": {},
          "execution_count": 18
        }
      ]
    },
    {
      "cell_type": "markdown",
      "source": [
        "2455+1817+4080 = 8355\n",
        "Possui 1683 cursos que são do tipo Integral, mas que não estão consolidados aqui de forma eficiente."
      ],
      "metadata": {
        "id": "5iI3V4gIZdk1"
      }
    },
    {
      "cell_type": "code",
      "source": [
        "computacaoenade2017.columns"
      ],
      "metadata": {
        "colab": {
          "base_uri": "https://localhost:8080/"
        },
        "collapsed": true,
        "id": "ATp8hmN_WdEE",
        "outputId": "58f8a441-0166-4ed5-d20c-91720531d764"
      },
      "execution_count": 19,
      "outputs": [
        {
          "output_type": "execute_result",
          "data": {
            "text/plain": [
              "Index(['NU_ANO', 'CO_CURSO', 'CO_GRUPO', 'CO_UF_CURSO', 'CO_REGIAO_CURSO',\n",
              "       'CO_CATEGAD', 'CO_ORGACAD', 'CO_TURNO_GRADUACAO', 'TP_PRES', 'NT_GER',\n",
              "       'TP_SEXO', 'NU_IDADE', 'ANO_FIM_EM', 'ANO_IN_GRAD', 'QE_I01', 'QE_I02',\n",
              "       'QE_I03', 'QE_I04', 'QE_I05', 'QE_I08', 'QE_I09', 'QE_I10', 'QE_I11',\n",
              "       'QE_I12', 'QE_I13', 'QE_I15', 'QE_I17', 'QE_I21'],\n",
              "      dtype='object')"
            ]
          },
          "metadata": {},
          "execution_count": 19
        }
      ]
    },
    {
      "cell_type": "code",
      "source": [
        "computacaoenade2017['CO_TURNO_GRADUACAO'].value_counts()\n",
        "#1 = Matutino\n",
        "#2 = Vespertino\n",
        "#3 = Integral\n",
        "#4 = Noturno"
      ],
      "metadata": {
        "colab": {
          "base_uri": "https://localhost:8080/",
          "height": 241
        },
        "id": "wQRuXn8bWgSb",
        "outputId": "c84add4f-6894-4529-955c-4dd31a78b7c5"
      },
      "execution_count": 20,
      "outputs": [
        {
          "output_type": "execute_result",
          "data": {
            "text/plain": [
              "CO_TURNO_GRADUACAO\n",
              "4.0    3222\n",
              "3.0    1090\n",
              "1.0     958\n",
              "2.0     402\n",
              "Name: count, dtype: int64"
            ],
            "text/html": [
              "<div>\n",
              "<style scoped>\n",
              "    .dataframe tbody tr th:only-of-type {\n",
              "        vertical-align: middle;\n",
              "    }\n",
              "\n",
              "    .dataframe tbody tr th {\n",
              "        vertical-align: top;\n",
              "    }\n",
              "\n",
              "    .dataframe thead th {\n",
              "        text-align: right;\n",
              "    }\n",
              "</style>\n",
              "<table border=\"1\" class=\"dataframe\">\n",
              "  <thead>\n",
              "    <tr style=\"text-align: right;\">\n",
              "      <th></th>\n",
              "      <th>count</th>\n",
              "    </tr>\n",
              "    <tr>\n",
              "      <th>CO_TURNO_GRADUACAO</th>\n",
              "      <th></th>\n",
              "    </tr>\n",
              "  </thead>\n",
              "  <tbody>\n",
              "    <tr>\n",
              "      <th>4.0</th>\n",
              "      <td>3222</td>\n",
              "    </tr>\n",
              "    <tr>\n",
              "      <th>3.0</th>\n",
              "      <td>1090</td>\n",
              "    </tr>\n",
              "    <tr>\n",
              "      <th>1.0</th>\n",
              "      <td>958</td>\n",
              "    </tr>\n",
              "    <tr>\n",
              "      <th>2.0</th>\n",
              "      <td>402</td>\n",
              "    </tr>\n",
              "  </tbody>\n",
              "</table>\n",
              "</div><br><label><b>dtype:</b> int64</label>"
            ]
          },
          "metadata": {},
          "execution_count": 20
        }
      ]
    },
    {
      "cell_type": "markdown",
      "source": [
        "### Padronização do ENADE 2014 [turnos]"
      ],
      "metadata": {
        "id": "mg0c8L3HgimG"
      }
    },
    {
      "cell_type": "code",
      "source": [
        "turnos = computacaoenade2014[['IN_MATUT', 'IN_VESPER', 'IN_NOTURNO']]\n",
        "soma_turnos = turnos.sum(axis=1)\n",
        "\n",
        "computacaoenade2014['CO_TURNO_GRADUACAO'] = np.nan\n",
        "\n",
        "computacaoenade2014.loc[soma_turnos >= 2, 'CO_TURNO_GRADUACAO'] = 3 #integral\n",
        "computacaoenade2014.loc[(computacaoenade2014['IN_MATUT'] == 1) & (soma_turnos == 1), 'CO_TURNO_GRADUACAO'] = 1 #matutino\n",
        "computacaoenade2014.loc[(computacaoenade2014['IN_VESPER'] == 1) & (soma_turnos == 1), 'CO_TURNO_GRADUACAO'] = 2 #vespertino\n",
        "computacaoenade2014.loc[(computacaoenade2014['IN_NOTURNO'] == 1) & (soma_turnos == 1), 'CO_TURNO_GRADUACAO'] = 4 #noturno\n"
      ],
      "metadata": {
        "id": "yYNF0uYbgksG"
      },
      "execution_count": 21,
      "outputs": []
    },
    {
      "cell_type": "code",
      "source": [
        "computacaoenade2014['CO_TURNO_GRADUACAO'].value_counts()\n",
        "#somou certo, então tá tudo ok"
      ],
      "metadata": {
        "id": "ItHVflufgu7h",
        "outputId": "aebca5ff-0683-4f97-dc35-d8ff1e75155b",
        "colab": {
          "base_uri": "https://localhost:8080/",
          "height": 241
        }
      },
      "execution_count": 22,
      "outputs": [
        {
          "output_type": "execute_result",
          "data": {
            "text/plain": [
              "CO_TURNO_GRADUACAO\n",
              "4.0    3752\n",
              "3.0    1382\n",
              "1.0    1098\n",
              "2.0     436\n",
              "Name: count, dtype: int64"
            ],
            "text/html": [
              "<div>\n",
              "<style scoped>\n",
              "    .dataframe tbody tr th:only-of-type {\n",
              "        vertical-align: middle;\n",
              "    }\n",
              "\n",
              "    .dataframe tbody tr th {\n",
              "        vertical-align: top;\n",
              "    }\n",
              "\n",
              "    .dataframe thead th {\n",
              "        text-align: right;\n",
              "    }\n",
              "</style>\n",
              "<table border=\"1\" class=\"dataframe\">\n",
              "  <thead>\n",
              "    <tr style=\"text-align: right;\">\n",
              "      <th></th>\n",
              "      <th>count</th>\n",
              "    </tr>\n",
              "    <tr>\n",
              "      <th>CO_TURNO_GRADUACAO</th>\n",
              "      <th></th>\n",
              "    </tr>\n",
              "  </thead>\n",
              "  <tbody>\n",
              "    <tr>\n",
              "      <th>4.0</th>\n",
              "      <td>3752</td>\n",
              "    </tr>\n",
              "    <tr>\n",
              "      <th>3.0</th>\n",
              "      <td>1382</td>\n",
              "    </tr>\n",
              "    <tr>\n",
              "      <th>1.0</th>\n",
              "      <td>1098</td>\n",
              "    </tr>\n",
              "    <tr>\n",
              "      <th>2.0</th>\n",
              "      <td>436</td>\n",
              "    </tr>\n",
              "  </tbody>\n",
              "</table>\n",
              "</div><br><label><b>dtype:</b> int64</label>"
            ]
          },
          "metadata": {},
          "execution_count": 22
        }
      ]
    },
    {
      "cell_type": "code",
      "source": [
        "computacaoenade2014.columns"
      ],
      "metadata": {
        "colab": {
          "base_uri": "https://localhost:8080/"
        },
        "id": "_QNfJPJMh3WA",
        "outputId": "9bb19bcb-7682-4c0d-91e6-5ccfea480ac9"
      },
      "execution_count": 23,
      "outputs": [
        {
          "output_type": "execute_result",
          "data": {
            "text/plain": [
              "Index(['NU_ANO', 'CO_CURSO', 'CO_GRUPO', 'CO_UF_CURSO', 'CO_REGIAO_CURSO',\n",
              "       'CO_CATEGAD', 'CO_ORGACAD', 'IN_MATUT', 'IN_VESPER', 'IN_NOTURNO',\n",
              "       'TP_PRES', 'NT_GER', 'TP_SEXO', 'NU_IDADE', 'ANO_FIM_EM', 'ANO_IN_GRAD',\n",
              "       'QE_I01', 'QE_I02', 'QE_I03', 'QE_I04', 'QE_I05', 'QE_I08', 'QE_I09',\n",
              "       'QE_I10', 'QE_I11', 'QE_I12', 'QE_I13', 'QE_I15', 'QE_I17', 'QE_I21',\n",
              "       'CO_TURNO_GRADUACAO'],\n",
              "      dtype='object')"
            ]
          },
          "metadata": {},
          "execution_count": 23
        }
      ]
    },
    {
      "cell_type": "code",
      "source": [
        "computacaoenade2014 = computacaoenade2014.drop(columns=['IN_MATUT', 'IN_VESPER', 'IN_NOTURNO'])"
      ],
      "metadata": {
        "id": "R8Ru53ZRiYIS"
      },
      "execution_count": 24,
      "outputs": []
    },
    {
      "cell_type": "code",
      "source": [
        "computacaoenade2017.columns"
      ],
      "metadata": {
        "colab": {
          "base_uri": "https://localhost:8080/"
        },
        "id": "99-8ZnGfiK39",
        "outputId": "637d9fbf-b68f-409f-a75a-60da260bc190"
      },
      "execution_count": 25,
      "outputs": [
        {
          "output_type": "execute_result",
          "data": {
            "text/plain": [
              "Index(['NU_ANO', 'CO_CURSO', 'CO_GRUPO', 'CO_UF_CURSO', 'CO_REGIAO_CURSO',\n",
              "       'CO_CATEGAD', 'CO_ORGACAD', 'CO_TURNO_GRADUACAO', 'TP_PRES', 'NT_GER',\n",
              "       'TP_SEXO', 'NU_IDADE', 'ANO_FIM_EM', 'ANO_IN_GRAD', 'QE_I01', 'QE_I02',\n",
              "       'QE_I03', 'QE_I04', 'QE_I05', 'QE_I08', 'QE_I09', 'QE_I10', 'QE_I11',\n",
              "       'QE_I12', 'QE_I13', 'QE_I15', 'QE_I17', 'QE_I21'],\n",
              "      dtype='object')"
            ]
          },
          "metadata": {},
          "execution_count": 25
        }
      ]
    },
    {
      "cell_type": "code",
      "source": [
        "colunas_2017 = computacaoenade2017.columns.tolist()\n",
        "colunas_reordenadas = [col for col in colunas_2017 if col in computacaoenade2014.columns]\n",
        "computacaoenade2014 = computacaoenade2014[colunas_reordenadas]\n",
        "computacaoenade2014.columns"
      ],
      "metadata": {
        "colab": {
          "base_uri": "https://localhost:8080/"
        },
        "id": "Aa7RjHwiiaQv",
        "outputId": "09d53f8f-1238-4537-c496-66a4a3581b74"
      },
      "execution_count": 26,
      "outputs": [
        {
          "output_type": "execute_result",
          "data": {
            "text/plain": [
              "Index(['NU_ANO', 'CO_CURSO', 'CO_GRUPO', 'CO_UF_CURSO', 'CO_REGIAO_CURSO',\n",
              "       'CO_CATEGAD', 'CO_ORGACAD', 'CO_TURNO_GRADUACAO', 'TP_PRES', 'NT_GER',\n",
              "       'TP_SEXO', 'NU_IDADE', 'ANO_FIM_EM', 'ANO_IN_GRAD', 'QE_I01', 'QE_I02',\n",
              "       'QE_I03', 'QE_I04', 'QE_I05', 'QE_I08', 'QE_I09', 'QE_I10', 'QE_I11',\n",
              "       'QE_I12', 'QE_I13', 'QE_I15', 'QE_I17', 'QE_I21'],\n",
              "      dtype='object')"
            ]
          },
          "metadata": {},
          "execution_count": 26
        }
      ]
    },
    {
      "cell_type": "markdown",
      "source": [
        "## Seleção de atributos para normalização (relevantes)."
      ],
      "metadata": {
        "id": "9OkBFFHsjL_l"
      }
    },
    {
      "cell_type": "markdown",
      "source": [
        "\n",
        "\n",
        "*   **NU_ANO**: só informa o ano da edição;\n",
        "*   **CO_CURSO**: não traz informação semântica\n",
        "*   **CO_GRUPO**\n",
        "*   **CO_UF_CURSO**: utilizar pra explicar os cluters\n",
        "\n",
        "\n",
        "\n"
      ],
      "metadata": {
        "id": "G3__73PIj6Zx"
      }
    },
    {
      "cell_type": "markdown",
      "source": [
        "\n",
        "\n",
        "---\n",
        "\n"
      ],
      "metadata": {
        "id": "3X5_rFs1kped"
      }
    },
    {
      "cell_type": "markdown",
      "source": [
        "Para algumas variáveis, vou fazer um mapeamento para reduzir a granularidade."
      ],
      "metadata": {
        "id": "6H3rsxV5kqCD"
      }
    },
    {
      "cell_type": "markdown",
      "source": [
        "QE_I01', 'QE_I02',\n",
        "       'QE_I03', 'QE_I04', 'QE_I05', 'QE_I08', 'QE_I09', 'QE_I10', 'QE_I11',\n",
        "       'QE_I12', 'QE_I13', 'QE_I15', 'QE_I17', 'QE_I21'"
      ],
      "metadata": {
        "id": "JQw0xgy8lT-H"
      }
    },
    {
      "cell_type": "code",
      "source": [
        "co_grupo_dict = {\n",
        "    72 : 'ADS',\n",
        "    79 : 'TRC',\n",
        "    4004 : 'BCC',\n",
        "    4005 : 'LCBCC',\n",
        "    4006 : 'BSI',\n",
        "    6409 : 'GTI',\n",
        "    5809 : 'EC'\n",
        "}\n",
        "\n",
        "co_categad_dict = {\n",
        "    1 : 'Pública Federal',\n",
        "    2 : 'Pública Estadual',\n",
        "    3 : 'Pública Municipal',\n",
        "    4 : 'Privada CFL',\n",
        "    5 : 'Privada SFL',\n",
        "    7 : 'Pública Municipal'\n",
        "}\n",
        "\n",
        "ufs_dict = {\n",
        "    21 : 'MA',\n",
        "    22 : 'PI',23 : 'CE',\n",
        "    24 : 'RN',25 : 'PB',\n",
        "    26 : 'PE',27 : 'AL',\n",
        "    28 : 'SE',29 : 'BA'\n",
        "}\n",
        "\n",
        "q1_estado_civil_dict = {\n",
        "    'A': 'Solteiro',\n",
        "    'B': 'Casado',\n",
        "    'C': 'Separado',\n",
        "    'D': 'Viúvo',\n",
        "    'E': 'Outro'\n",
        "}\n",
        "\n",
        "q2_raca_dict = {\n",
        "    'A' : 'Branca',\n",
        "    'B' : 'Preta',\n",
        "    'C' : 'Amarela',\n",
        "    'D' : 'Parda',\n",
        "    'E': 'Indígena',\n",
        "    'F': 'Não declarado'\n",
        "}\n",
        "\n",
        "q3_nacio_dict = {\n",
        "    'A' : 'Brasileira',\n",
        "    'B' : 'Brasileira naturalizada',\n",
        "    'C' : 'Estrangeira'\n",
        "}\n",
        "\n",
        "q4_q5_escolaridade_pais_dict = {\n",
        "    'A' : 'Nenhuma',\n",
        "    'B' : 'Fundamental I',\n",
        "    'C' : 'Fundamental II',\n",
        "    'D' : 'Ensino Médio',\n",
        "    'E': 'Superior',\n",
        "    'F': 'Pós-graduação'\n",
        "}\n",
        "\n",
        "q8_renda_total_dict = {\n",
        "    'A' : 'Até 1,5 Salário Mínimo',\n",
        "    'B' : 'De 1,5 a 3 Salários Mínimos',\n",
        "    'C' : 'De 3 a 4,5 Salários Mínimos',\n",
        "    'D' : 'De 4,5 a 6 Salário Mínimos',\n",
        "    'E': 'De 6 a 10 Salário Mínimos',\n",
        "    'F': 'De 10 a 30 Salário Mínimos',\n",
        "    'G': 'Acima de 30 Salário Mínimos'\n",
        "}\n",
        "\n",
        "q9_situacao_financeira_dict = {\n",
        "    'A' : 'Sem renda/Outros',\n",
        "    'B' : 'Sem renda/Outros',\n",
        "    'C' : 'Possui renda/Outros',\n",
        "    'D' : 'Possui renda',\n",
        "    'E': 'Possui renda/Sustento',\n",
        "    'F': 'Possui renda/principal'\n",
        "}\n",
        "\n",
        "q10_situacao_trab_dict = {\n",
        "    'A' : 'Não trabalha',\n",
        "    'B' : 'Trabalha eventualmente',\n",
        "    'C' : 'Trabalho até 20h semanais',\n",
        "    'D' : 'Trabalho 21h/39h semanais',\n",
        "    'E': 'Trabalho 40h +'\n",
        "}\n",
        "\n",
        "q11_bolsa_dict = {\n",
        "    'A' : 'Não se aplica','B' : 'Não',\n",
        "    'C' : 'Sim', 'D' : 'Sim',\n",
        "    'E': 'Sim', 'F' : 'Sim',\n",
        "    'G' : 'Sim', 'H' : 'Sim',\n",
        "    'I': 'Sim', 'J' : 'Sim',\n",
        "    'K' : 'Sim'\n",
        "}\n",
        "\n",
        "q12_auxilo_dict = {\n",
        "    'A' : 'Nenhum',\n",
        "    'B' : 'Moradia',\n",
        "    'C' : 'Alimentação',\n",
        "    'D' : 'Moradia e Alimentação',\n",
        "    'E': 'Permanência',\n",
        "    'F' : 'Outro'\n",
        "}\n",
        "\n",
        "q14_bolsa_acad_dict = {\n",
        "    'A' : 'Nenhum',\n",
        "    'B' : 'IC',\n",
        "    'C' : 'Extensão',\n",
        "    'D' : 'Monitoria/Tutoria',\n",
        "    'E': 'PET',\n",
        "    'F' : 'Outro'\n",
        "}\n",
        "\n",
        "q15_af_dict = {\n",
        "    'A' : 'Não',\n",
        "    'B' : 'IC',\n",
        "    'C' : 'Extensão',\n",
        "    'D' : 'Monitoria/Tutoria',\n",
        "    'E': 'PET',\n",
        "    'F' : 'Outro'\n",
        "}\n",
        "17,21\n",
        "\n",
        "q17_escola_em_dict = {\n",
        "    'A' : 'Pública',\n",
        "    'B' : 'Privada',\n",
        "    'C' : 'Exterior',\n",
        "    'D' : 'Pública',\n",
        "    'E': 'Privada',\n",
        "    'F' : 'Exterior'\n",
        "}\n",
        "\n",
        "q21_escola_em_dict = {\n",
        "    'A' : 'Sim',\n",
        "    'B' : 'Não'\n",
        "}"
      ],
      "metadata": {
        "id": "5uIUEVWek0WJ"
      },
      "execution_count": 34,
      "outputs": []
    },
    {
      "cell_type": "code",
      "source": [
        "mapeamentos_qe = {\n",
        "    'QE_I01': q1_estado_civil_dict,\n",
        "    'QE_I02': q2_raca_dict,\n",
        "    'QE_I03': q3_nacio_dict,\n",
        "    'QE_I04': q4_q5_escolaridade_pais_dict,\n",
        "    'QE_I05': q4_q5_escolaridade_pais_dict,\n",
        "    'QE_I08': q8_renda_total_dict,\n",
        "    'QE_I09': q9_situacao_financeira_dict,\n",
        "    'QE_I10': q10_situacao_trab_dict,\n",
        "    'QE_I11': q11_bolsa_dict,\n",
        "    'QE_I12': q12_auxilo_dict,\n",
        "    'QE_I13': q14_bolsa_acad_dict,\n",
        "    'QE_I15': q15_af_dict,\n",
        "    'QE_I17': q17_escola_em_dict,\n",
        "    'QE_I21': q21_escola_em_dict\n",
        "}\n",
        "\n",
        "def preprocessar_enade(df):\n",
        "    for coluna, mapa in mapeamentos_qe.items():\n",
        "        if coluna in df.columns:\n",
        "            df[coluna] = df[coluna].replace(mapa).astype(str)\n",
        "    return df\n"
      ],
      "metadata": {
        "id": "2uTCd0gfzEU4"
      },
      "execution_count": 35,
      "outputs": []
    },
    {
      "cell_type": "code",
      "source": [
        "dados_14 = preprocessar_enade(computacaoenade2014)\n",
        "dados_17 = preprocessar_enade(computacaoenade2017)\n",
        "dados_21 = preprocessar_enade(computacaoenade2021)"
      ],
      "metadata": {
        "id": "bEb6FGt20RUg"
      },
      "execution_count": 37,
      "outputs": []
    },
    {
      "cell_type": "code",
      "source": [
        "dados_14 = dados_14.dropna()\n",
        "dados_17 = dados_17.dropna()\n",
        "dados_21 = dados_21.dropna()"
      ],
      "metadata": {
        "id": "jQb4d8qO29qj"
      },
      "execution_count": 68,
      "outputs": []
    },
    {
      "cell_type": "code",
      "source": [
        "dados_14.columns"
      ],
      "metadata": {
        "colab": {
          "base_uri": "https://localhost:8080/"
        },
        "id": "hhNK-PRp18Z3",
        "outputId": "c6a02790-9af8-4769-8b13-a692f581b300"
      },
      "execution_count": 69,
      "outputs": [
        {
          "output_type": "execute_result",
          "data": {
            "text/plain": [
              "Index(['NU_ANO', 'CO_CURSO', 'CO_GRUPO', 'CO_UF_CURSO', 'CO_REGIAO_CURSO',\n",
              "       'CO_CATEGAD', 'CO_ORGACAD', 'CO_TURNO_GRADUACAO', 'TP_PRES', 'NT_GER',\n",
              "       'TP_SEXO', 'NU_IDADE', 'ANO_FIM_EM', 'ANO_IN_GRAD', 'QE_I01', 'QE_I02',\n",
              "       'QE_I03', 'QE_I04', 'QE_I05', 'QE_I08', 'QE_I09', 'QE_I10', 'QE_I11',\n",
              "       'QE_I12', 'QE_I13', 'QE_I15', 'QE_I17', 'QE_I21', 'CATEGORIA_NOTA'],\n",
              "      dtype='object')"
            ]
          },
          "metadata": {},
          "execution_count": 69
        }
      ]
    },
    {
      "cell_type": "code",
      "source": [
        "#df_dummies14.columns\n",
        "#Teste de como ficaria com o encoding."
      ],
      "metadata": {
        "colab": {
          "base_uri": "https://localhost:8080/"
        },
        "id": "ZcJCvT7Q2MG9",
        "outputId": "7c6863fc-6295-4260-c03d-38a9bb7ce549"
      },
      "execution_count": 44,
      "outputs": [
        {
          "output_type": "execute_result",
          "data": {
            "text/plain": [
              "Index(['CO_CATEGAD', 'CO_TURNO_GRADUACAO', 'QE_I01_Outro', 'QE_I01_Separado',\n",
              "       'QE_I01_Solteiro', 'QE_I01_Viúvo', 'QE_I01_nan',\n",
              "       'QE_I08_Até 1,5 Salário Mínimo', 'QE_I08_De 1,5 a 3 Salários Mínimos',\n",
              "       'QE_I08_De 10 a 30 Salário Mínimos',\n",
              "       'QE_I08_De 3 a 4,5 Salários Mínimos',\n",
              "       'QE_I08_De 4,5 a 6 Salário Mínimos', 'QE_I08_De 6 a 10 Salário Mínimos',\n",
              "       'QE_I08_nan', 'QE_I10_Trabalha eventualmente',\n",
              "       'QE_I10_Trabalho 21h/39h semanais', 'QE_I10_Trabalho 40h +',\n",
              "       'QE_I10_Trabalho até 20h semanais', 'QE_I10_nan',\n",
              "       'QE_I05_Fundamental I', 'QE_I05_Fundamental II', 'QE_I05_Nenhuma',\n",
              "       'QE_I05_Pós-graduação', 'QE_I05_Superior', 'QE_I05_nan',\n",
              "       'QE_I09_Possui renda/Outros', 'QE_I09_Possui renda/Sustento',\n",
              "       'QE_I09_Possui renda/principal', 'QE_I09_Sem renda/Outros',\n",
              "       'QE_I09_nan', 'QE_I03_Brasileira naturalizada', 'QE_I03_Estrangeira',\n",
              "       'QE_I03_nan', 'TP_SEXO_M', 'QE_I17_Privada', 'QE_I17_Pública',\n",
              "       'QE_I17_nan', 'QE_I04_Fundamental I', 'QE_I04_Fundamental II',\n",
              "       'QE_I04_Nenhuma', 'QE_I04_Pós-graduação', 'QE_I04_Superior',\n",
              "       'QE_I04_nan', 'QE_I13_IC', 'QE_I13_Monitoria/Tutoria', 'QE_I13_Nenhum',\n",
              "       'QE_I13_Outro', 'QE_I13_PET', 'QE_I13_nan', 'QE_I21_Sim', 'QE_I21_nan',\n",
              "       'QE_I11_Não se aplica', 'QE_I11_Sim', 'QE_I11_nan', 'QE_I15_IC',\n",
              "       'QE_I15_Monitoria/Tutoria', 'QE_I15_Não', 'QE_I15_Outro', 'QE_I15_PET',\n",
              "       'QE_I15_nan', 'QE_I12_Moradia', 'QE_I12_Moradia e Alimentação',\n",
              "       'QE_I12_Nenhum', 'QE_I12_Outro', 'QE_I12_Permanência', 'QE_I12_nan',\n",
              "       'QE_I02_Branca', 'QE_I02_Indígena', 'QE_I02_Parda', 'QE_I02_Preta',\n",
              "       'QE_I02_nan'],\n",
              "      dtype='object')"
            ]
          },
          "metadata": {},
          "execution_count": 44
        }
      ]
    },
    {
      "cell_type": "markdown",
      "source": [
        "### One-Hot Encoding, Normalização e WCSS com Método do Cotovelo"
      ],
      "metadata": {
        "id": "t3sxOkQNsyO-"
      }
    },
    {
      "cell_type": "markdown",
      "source": [
        "#### Pré-processamento"
      ],
      "metadata": {
        "id": "Vt9hXET-8AEd"
      }
    },
    {
      "cell_type": "code",
      "source": [
        "def preprocessar_dataframe(df, colunas_para_cluster, variaveis_numericas):\n",
        "    df = df.copy()\n",
        "\n",
        "    # One-hot encoding\n",
        "    colunas_categoricas = list(set(colunas_para_cluster) - set(variaveis_numericas))\n",
        "    df_dummies = pd.get_dummies(df[colunas_categoricas], drop_first=True)\n",
        "\n",
        "    # Normalização das variáveis numéricas\n",
        "    scaler = StandardScaler()\n",
        "    df_numerico = pd.DataFrame(\n",
        "        scaler.fit_transform(df[variaveis_numericas]),\n",
        "        columns=variaveis_numericas,\n",
        "        index=df.index\n",
        "    )\n",
        "\n",
        "    if 'NT_GER' in df.columns:\n",
        "        df['NT_GER_NORMALIZADA'] = StandardScaler().fit_transform(df[['NT_GER']])\n",
        "\n",
        "    df_cluster = pd.concat([df_dummies, df_numerico], axis=1)\n",
        "    return df_cluster, df"
      ],
      "metadata": {
        "id": "cFKnv13R8GiN"
      },
      "execution_count": null,
      "outputs": []
    },
    {
      "cell_type": "markdown",
      "source": [
        "#### Cálculo **normalizado** do SSE"
      ],
      "metadata": {
        "id": "74OFAns38ItY"
      }
    },
    {
      "cell_type": "code",
      "source": [
        "def calcular_sse_normalizado(df_cluster, k_max=10, seed=42):\n",
        "    sse = []\n",
        "    for k in range(1, k_max + 1):\n",
        "        modelo = KMeans(n_clusters=k, random_state=seed, n_init=10)\n",
        "        modelo.fit(df_cluster)\n",
        "        sse.append(modelo.inertia_)\n",
        "    return [val / sse[0] for val in sse]"
      ],
      "metadata": {
        "id": "qdeipggE8JKc"
      },
      "execution_count": null,
      "outputs": []
    },
    {
      "cell_type": "markdown",
      "source": [
        "#### Processamento dos anos e plots comparativos"
      ],
      "metadata": {
        "id": "Qaobgbl58XTv"
      }
    },
    {
      "cell_type": "code",
      "source": [
        "def processar_ano(df, colunas, numericas):\n",
        "    df_cluster, df_completo = preprocessar_dataframe(df, colunas, numericas)\n",
        "    sse_normalizado = calcular_sse_normalizado(df_cluster)\n",
        "    return sse_normalizado, df_cluster, df_completo\n",
        "\n",
        "def plotar_cotovelo_comparativo(sse_por_ano):\n",
        "    k_vals = np.arange(1, 11)\n",
        "    deslocamentos = np.linspace(-0.25, 0.25, len(sse_por_ano))\n",
        "\n",
        "    plt.figure(figsize=(12, 6))\n",
        "    for (ano, sse), desloc in zip(sse_por_ano.items(), deslocamentos):\n",
        "        plt.bar(k_vals + desloc, sse, width=0.25, label=str(ano))\n",
        "\n",
        "    media = np.mean(list(sse_por_ano.values()), axis=0)\n",
        "    plt.plot(k_vals, media, marker='o', color='black', label='Média')\n",
        "    plt.title('Método do Cotovelo – SSE Normalizado (Comparativo)')\n",
        "    plt.xlabel('Número de Clusters (k)')\n",
        "    plt.ylabel('SSE Normalizado')\n",
        "    plt.xticks(k_vals)\n",
        "    plt.grid(False)\n",
        "    plt.legend()\n",
        "    plt.tight_layout()\n",
        "    plt.show()\n",
        "\n",
        "def plotar_cotovelo_individual(sse_por_ano):\n",
        "    k_vals = np.arange(1, 11)\n",
        "    fig, axs = plt.subplots(1, len(sse_por_ano), figsize=(18, 5), sharey=True)\n",
        "    for ax, (ano, sse) in zip(axs, sse_por_ano.items()):\n",
        "        ax.plot(k_vals, sse, marker='o')\n",
        "        ax.set_title(f'Método do Cotovelo – {ano}')\n",
        "        ax.set_xlabel('k')\n",
        "        ax.set_ylabel('SSE Normalizado')\n",
        "        ax.grid(True)\n",
        "    plt.tight_layout()\n",
        "    plt.show()"
      ],
      "metadata": {
        "id": "9eIRkFgO9CEs"
      },
      "execution_count": 81,
      "outputs": []
    },
    {
      "cell_type": "code",
      "source": [
        "COLUNAS_PARA_CLUSTER = [\n",
        "    'CO_TURNO_GRADUACAO', 'TP_SEXO', 'NU_IDADE', 'CO_CATEGAD',\n",
        "    'QE_I01', 'QE_I02', 'QE_I03', 'QE_I04', 'QE_I05',\n",
        "    'QE_I08', 'QE_I09', 'QE_I10', 'QE_I11',\n",
        "    'QE_I12', 'QE_I13', 'QE_I15', 'QE_I17', 'QE_I21'\n",
        "]\n",
        "VARIAVEIS_NUMERICAS = ['NU_IDADE']\n",
        "\n",
        "dfs_por_ano = {\n",
        "    2014: dados_14,\n",
        "    2017: dados_17,\n",
        "    2021: dados_21\n",
        "}\n",
        "\n",
        "sse_resultados = {}\n",
        "dataframes_processados = {}\n",
        "\n",
        "for ano, df in dfs_por_ano.items():\n",
        "    sse, df_cluster, df_completo = processar_ano(df, COLUNAS_PARA_CLUSTER, VARIAVEIS_NUMERICAS)\n",
        "    sse_resultados[ano] = sse\n",
        "    dataframes_processados[ano] = df_completo\n",
        "\n",
        "plotar_cotovelo_comparativo(sse_resultados)\n",
        "plotar_cotovelo_individual(sse_resultados)"
      ],
      "metadata": {
        "colab": {
          "base_uri": "https://localhost:8080/",
          "height": 799
        },
        "id": "77wWxS0N7g8-",
        "outputId": "d7849921-a2b4-4c56-a0ca-b7c97631e4c1"
      },
      "execution_count": 82,
      "outputs": [
        {
          "output_type": "display_data",
          "data": {
            "text/plain": [
              "<Figure size 1200x600 with 1 Axes>"
            ],
            "image/png": "[encoded data removed]"
          },
          "metadata": {}
        },
        {
          "output_type": "display_data",
          "data": {
            "text/plain": [
              "<Figure size 1800x500 with 3 Axes>"
            ],
            "image/png": "[encoded data removed]"
          },
          "metadata": {}
        }
      ]
    },
    {
      "cell_type": "markdown",
      "source": [
        "A função de salvar pega os DF transformados (one-hot + normalização) e inclui a nota geral (NT_GER) também padronizada. Ela não vai ser passada para o treinamento e também não foi utilizada no cotovelo, vai ser apenas para análise."
      ],
      "metadata": {
        "id": "SmAiUHpW-mWh"
      }
    },
    {
      "cell_type": "code",
      "source": [
        "def salvar_clusterizados(dfs_entrada, colunas, numericas, caminho='.', prefixo='df_cluster_'):\n",
        "    for ano, df in dfs_entrada.items():\n",
        "        df_prep = df.copy()\n",
        "        coluna_nota = df_prep['NT_GER'] if 'NT_GER' in df_prep.columns else None\n",
        "        df_cluster_raw = df_prep[colunas].dropna()\n",
        "\n",
        "        # One-hot nas categóricas\n",
        "        df_dummies = pd.get_dummies(\n",
        "            df_cluster_raw[list(set(colunas) - set(numericas))],\n",
        "            drop_first=True\n",
        "        ).astype(int)\n",
        "\n",
        "        # Normaliza as numéricas\n",
        "        scaler = StandardScaler()\n",
        "        df_numerico = pd.DataFrame(\n",
        "            scaler.fit_transform(df_cluster_raw[numericas]),\n",
        "            columns=numericas,\n",
        "            index=df_cluster_raw.index\n",
        "        )\n",
        "        df_clusterizado = pd.concat([df_dummies, df_numerico], axis=1)\n",
        "        if coluna_nota is not None:\n",
        "            df_clusterizado['NT_GER'] = coluna_nota.loc[df_clusterizado.index]\n",
        "        nome_arquivo = os.path.join(caminho, f'{prefixo}{ano}.csv')\n",
        "        df_clusterizado.to_csv(nome_arquivo, index=False)"
      ],
      "metadata": {
        "id": "2Fushwwh6OYO"
      },
      "execution_count": 100,
      "outputs": []
    },
    {
      "cell_type": "code",
      "source": [
        "salvar_clusterizados(\n",
        "    dfs_entrada=dfs_por_ano,\n",
        "    colunas=COLUNAS_PARA_CLUSTER,\n",
        "    numericas=VARIAVEIS_NUMERICAS,\n",
        "    caminho='.',\n",
        "    prefixo='df_cluster_'\n",
        ")"
      ],
      "metadata": {
        "id": "BzX8N9mc6kpW"
      },
      "execution_count": 101,
      "outputs": []
    },
    {
      "cell_type": "code",
      "source": [
        "teste = pd.read_csv('df_cluster_2014.csv')"
      ],
      "metadata": {
        "id": "_xJTa-KK9z8B"
      },
      "execution_count": 102,
      "outputs": []
    },
    {
      "cell_type": "code",
      "source": [
        "teste.columns"
      ],
      "metadata": {
        "colab": {
          "base_uri": "https://localhost:8080/"
        },
        "id": "asta7hgF-CVr",
        "outputId": "42a4285a-c5ca-44f1-ae4b-6a3257e632f5"
      },
      "execution_count": 103,
      "outputs": [
        {
          "output_type": "execute_result",
          "data": {
            "text/plain": [
              "Index(['CO_CATEGAD', 'CO_TURNO_GRADUACAO', 'QE_I01_Outro', 'QE_I01_Separado',\n",
              "       'QE_I01_Solteiro', 'QE_I01_Viúvo', 'QE_I01_nan',\n",
              "       'QE_I08_Até 1,5 Salário Mínimo', 'QE_I08_De 1,5 a 3 Salários Mínimos',\n",
              "       'QE_I08_De 10 a 30 Salário Mínimos',\n",
              "       'QE_I08_De 3 a 4,5 Salários Mínimos',\n",
              "       'QE_I08_De 4,5 a 6 Salário Mínimos', 'QE_I08_De 6 a 10 Salário Mínimos',\n",
              "       'QE_I08_nan', 'QE_I10_Trabalha eventualmente',\n",
              "       'QE_I10_Trabalho 21h/39h semanais', 'QE_I10_Trabalho 40h +',\n",
              "       'QE_I10_Trabalho até 20h semanais', 'QE_I10_nan',\n",
              "       'QE_I05_Fundamental I', 'QE_I05_Fundamental II', 'QE_I05_Nenhuma',\n",
              "       'QE_I05_Pós-graduação', 'QE_I05_Superior', 'QE_I05_nan',\n",
              "       'QE_I09_Possui renda/Outros', 'QE_I09_Possui renda/Sustento',\n",
              "       'QE_I09_Possui renda/principal', 'QE_I09_Sem renda/Outros',\n",
              "       'QE_I09_nan', 'QE_I03_Brasileira naturalizada', 'QE_I03_Estrangeira',\n",
              "       'QE_I03_nan', 'TP_SEXO_M', 'QE_I17_Privada', 'QE_I17_Pública',\n",
              "       'QE_I17_nan', 'QE_I04_Fundamental I', 'QE_I04_Fundamental II',\n",
              "       'QE_I04_Nenhuma', 'QE_I04_Pós-graduação', 'QE_I04_Superior',\n",
              "       'QE_I04_nan', 'QE_I13_IC', 'QE_I13_Monitoria/Tutoria', 'QE_I13_Nenhum',\n",
              "       'QE_I13_Outro', 'QE_I13_PET', 'QE_I13_nan', 'QE_I21_Sim', 'QE_I21_nan',\n",
              "       'QE_I11_Não se aplica', 'QE_I11_Sim', 'QE_I11_nan', 'QE_I15_IC',\n",
              "       'QE_I15_Monitoria/Tutoria', 'QE_I15_Não', 'QE_I15_Outro', 'QE_I15_PET',\n",
              "       'QE_I15_nan', 'QE_I12_Moradia', 'QE_I12_Moradia e Alimentação',\n",
              "       'QE_I12_Nenhum', 'QE_I12_Outro', 'QE_I12_Permanência', 'QE_I12_nan',\n",
              "       'QE_I02_Branca', 'QE_I02_Indígena', 'QE_I02_Parda', 'QE_I02_Preta',\n",
              "       'QE_I02_nan', 'NU_IDADE', 'NT_GER'],\n",
              "      dtype='object')"
            ]
          },
          "metadata": {},
          "execution_count": 103
        }
      ]
    }
  ]
}